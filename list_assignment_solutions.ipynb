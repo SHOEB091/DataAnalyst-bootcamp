{
 "cells": [
  {
   "cell_type": "code",
   "execution_count": null,
   "id": "28e2f6ac",
   "metadata": {},
   "outputs": [
    {
     "name": "stdout",
     "output_type": "stream",
     "text": [
      "[1, 2, 3, 4, 5, 6, 7, 8, 9, 10, 11, 12, 13, 14, 15, 16, 17, 18, 19, 20]\n",
      "[1, 2, 3, 4, 5, 6, 7, 8, 9, 10, 11, 12, 13, 14, 15, 16, 17, 18, 19, 20]\n",
      "1\n",
      "2\n",
      "3\n",
      "4\n",
      "5\n",
      "6\n",
      "7\n",
      "8\n",
      "9\n",
      "10\n",
      "11\n",
      "12\n",
      "13\n",
      "14\n",
      "15\n",
      "16\n",
      "17\n",
      "18\n",
      "19\n",
      "20\n"
     ]
    }
   ],
   "source": [
    "lst = [1,2,3,4,5,6,7,8,9,10,11,12,13,14,15,16,17,18,19,20]\n",
    "print(lst)\n",
    "\n",
    "lst2 = list(range(1,21))\n",
    "print(lst2)\n",
    "# method 1\n",
    "for i in range(len(lst)):\n",
    "    print(lst[i])"
   ]
  },
  {
   "cell_type": "code",
   "execution_count": 5,
   "id": "ef378359",
   "metadata": {},
   "outputs": [
    {
     "name": "stdout",
     "output_type": "stream",
     "text": [
      "1\n",
      "10\n",
      "6\n"
     ]
    }
   ],
   "source": [
    "# solution 2 Acessign List Elements\n",
    "lst = [1,2,3,4,5,6,7,8,9,10]\n",
    "print(lst[0]) # First element\n",
    "print(lst[-1]) # Last element\n",
    "print(lst[len(lst)//2]) # Middle element"
   ]
  },
  {
   "cell_type": "code",
   "execution_count": 10,
   "id": "a23de1f7",
   "metadata": {},
   "outputs": [
    {
     "name": "stdout",
     "output_type": "stream",
     "text": [
      "[1, 2, 3, 4, 5]\n",
      "[16, 17, 18, 19, 20]\n",
      "[6, 7, 8, 9, 10, 11, 12, 13, 14, 15]\n",
      "[1, 3, 5, 7, 9, 11, 13, 15, 17, 19]\n",
      "[20, 19, 18, 17, 16, 15, 14, 13, 12, 11, 10, 9, 8, 7, 6, 5, 4, 3, 2, 1]\n",
      "[1, 4, 7, 10, 13, 16, 19]\n",
      "[20, 17, 14, 11, 8, 5, 2]\n"
     ]
    }
   ],
   "source": [
    "lst = [1,2,3,4,5,6,7,8,9,10,11,12,13,14,15,16,17,18,19,20]\n",
    "print(lst[0:5]) # First 5 elements\n",
    "print(lst[-5:]) # Last 5 elements\n",
    "print(lst[5:15]) # Elements from index 5 to 14\n",
    "print(lst[::2]) # Every second element\n",
    "print(lst[::-1]) # Reversed list\n",
    "print(lst[::3]) # Every third element\n",
    "print(lst[::-3]) # Every third element in reverse order\n"
   ]
  },
  {
   "cell_type": "code",
   "execution_count": null,
   "id": "bd6a2d1c",
   "metadata": {},
   "outputs": [
    {
     "name": "stdout",
     "output_type": "stream",
     "text": [
      "[1, 4, 9, 16, 25, 36, 49, 64, 81, 100]\n"
     ]
    }
   ],
   "source": [
    "# Solution 4 List Comprehensions\n",
    "n = int(input(\"Enter a number: \"))\n",
    "new_list = [n**2 for n in range(1,n+1)]\n",
    "print(new_list)"
   ]
  },
  {
   "cell_type": "code",
   "execution_count": 14,
   "id": "851bc473",
   "metadata": {},
   "outputs": [
    {
     "name": "stdout",
     "output_type": "stream",
     "text": [
      "[2, 4, 6, 8, 10, 12, 14, 16, 18, 20]\n"
     ]
    }
   ],
   "source": [
    "# Solution 5 Filtering List \n",
    "lst = [1,2,3,4,5,6,7,8,9,10,11,12,13,14,15,16,17,18,19,20]\n",
    "even_numbers = [num for num in lst if num %2 ==0]\n",
    "print(even_numbers)"
   ]
  },
  {
   "cell_type": "code",
   "execution_count": null,
   "id": "a28c7268",
   "metadata": {},
   "outputs": [
    {
     "name": "stdout",
     "output_type": "stream",
     "text": [
      "[56, 56, 49, 62, 58, 89, 55, 39, 72, 56]\n",
      "[39, 49, 55, 56, 56, 56, 58, 62, 72, 89]\n",
      "[89, 72, 62, 58, 56, 56, 56, 55, 49, 39]\n",
      "[39, 72, 49, 55, 56, 89, 58, 62]\n"
     ]
    }
   ],
   "source": [
    "# Solution 6 List Methods\n",
    "import random\n",
    "\n",
    "lst=[]\n",
    "for i in range(1,11):\n",
    "    lst.append(random.randint(1,100))\n",
    "print(lst)\n",
    "\n",
    "print(sorted(lst)) # Sort the list in ascending order\n",
    "print(sorted(lst, reverse=True)) # Sort the list in descending order\n",
    "\n",
    "print(list(set(lst))) # Remove duplicates by converting to a set and back to a list "
   ]
  },
  {
   "cell_type": "code",
   "execution_count": 37,
   "id": "257f96a3",
   "metadata": {},
   "outputs": [
    {
     "name": "stdout",
     "output_type": "stream",
     "text": [
      "Your matrix is: \n",
      "[1, 2]\n",
      "[3, 4]\n",
      "Matrix:\n",
      "[1, 2, 3]\n",
      "[4, 5, 6]\n",
      "[7, 8, 9]\n",
      "Element at position [1][2]: 6\n"
     ]
    }
   ],
   "source": [
    "# Solution 7 Nested List \n",
    "\n",
    "## Creating and printing matrix\n",
    "row = int(input(\"Enter number of rows: \"))\n",
    "col = int(input(\"Enter number of columns: \"))\n",
    "matrix = []\n",
    "for i in range(row):\n",
    "    row_list = []\n",
    "    for j in range(col):\n",
    "        values = int(input(f\"Enter value for element [{i}][{j}]: \"))\n",
    "        row_list.append(values)\n",
    "    matrix.append(row_list)\n",
    "print(\"Your matrix is: \")\n",
    "for row in matrix:\n",
    "    print(row)\n",
    "#---------------------------------------------------------------------#\n",
    "matrix = [\n",
    "    [1, 2, 3],\n",
    "    [4, 5, 6],\n",
    "    [7, 8, 9]\n",
    "]\n",
    "\n",
    "print(\"Matrix:\")\n",
    "for row in matrix:\n",
    "    print(row)\n",
    "    # Printing the element of second row and third column \n",
    "print(\"Element at position [1][2]:\", matrix[1][2])  # Accessing element at row 1, column 2    "
   ]
  },
  {
   "cell_type": "code",
   "execution_count": 38,
   "id": "b2ad86f5",
   "metadata": {},
   "outputs": [
    {
     "name": "stdout",
     "output_type": "stream",
     "text": [
      "[{'name': 'Charlie', 'score': 95}, {'name': 'Alice', 'score': 88}, {'name': 'Eve', 'score': 78}, {'name': 'Bob', 'score': 72}, {'name': 'David', 'score': 65}]\n"
     ]
    }
   ],
   "source": [
    "# Solution 8  List of Dictionaries\n",
    "students = [\n",
    "    {'name': 'Alice', 'score': 88},\n",
    "    {'name': 'Bob', 'score': 72},\n",
    "    {'name': 'Charlie', 'score': 95},\n",
    "    {'name': 'David', 'score': 65},\n",
    "    {'name': 'Eve', 'score': 78}\n",
    "]\n",
    "\n",
    "sorted_students = sorted(students , key= lambda x: x['score'], reverse=True)\n",
    "\n",
    "print(sorted_students)"
   ]
  },
  {
   "cell_type": "code",
   "execution_count": 41,
   "id": "97b48e6b",
   "metadata": {},
   "outputs": [
    {
     "name": "stdout",
     "output_type": "stream",
     "text": [
      "Original Matrix:\n",
      "[1, 2, 3]\n",
      "[4, 5, 6]\n",
      "[7, 8, 9]\n",
      "Transposed Matrix:\n",
      "[1, 4, 7]\n",
      "[2, 5, 8]\n",
      "[3, 6, 9]\n"
     ]
    }
   ],
   "source": [
    "# Solution 9 Matrix Transpose \n",
    "def transposeMatrix(matrix):\n",
    "    transposed = [[matrix[j][i] for j in range(len(matrix))] for i in range(len(matrix[0]))]\n",
    "    return transposed\n",
    "\n",
    "matrix = [\n",
    "    [1, 2, 3],\n",
    "    [4, 5, 6],\n",
    "    [7, 8, 9]\n",
    "]\n",
    "transposed_matrix = transposeMatrix(matrix)\n",
    "print(\"Original Matrix:\")\n",
    "for row in matrix:\n",
    "    print(row)\n",
    "print(\"Transposed Matrix:\") \n",
    "for row in transposed_matrix:\n",
    "    print(row)\n"
   ]
  }
 ],
 "metadata": {
  "kernelspec": {
   "display_name": "Python 3",
   "language": "python",
   "name": "python3"
  },
  "language_info": {
   "codemirror_mode": {
    "name": "ipython",
    "version": 3
   },
   "file_extension": ".py",
   "mimetype": "text/x-python",
   "name": "python",
   "nbconvert_exporter": "python",
   "pygments_lexer": "ipython3",
   "version": "3.12.4"
  }
 },
 "nbformat": 4,
 "nbformat_minor": 5
}
